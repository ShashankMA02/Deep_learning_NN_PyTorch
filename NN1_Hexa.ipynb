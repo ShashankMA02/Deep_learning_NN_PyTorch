{
  "nbformat": 4,
  "nbformat_minor": 0,
  "metadata": {
    "colab": {
      "provenance": [],
      "gpuType": "T4",
      "authorship_tag": "ABX9TyNOjPLBkuRFXABlNakcBa0I",
      "include_colab_link": true
    },
    "kernelspec": {
      "name": "python3",
      "display_name": "Python 3"
    },
    "language_info": {
      "name": "python"
    },
    "accelerator": "GPU"
  },
  "cells": [
    {
      "cell_type": "markdown",
      "metadata": {
        "id": "view-in-github",
        "colab_type": "text"
      },
      "source": [
        "<a href=\"https://colab.research.google.com/github/ShashankMA02/Deep_learning_NN_PyTorch/blob/main/NN1_Hexa.ipynb\" target=\"_parent\"><img src=\"https://colab.research.google.com/assets/colab-badge.svg\" alt=\"Open In Colab\"/></a>"
      ]
    },
    {
      "cell_type": "code",
      "execution_count": 26,
      "metadata": {
        "id": "PkcBGSeo_7Uq"
      },
      "outputs": [],
      "source": [
        "import torch\n",
        "import torch.nn as nn\n",
        "import torch.nn.functional as F\n",
        "\n",
        "import pandas as pd\n",
        "import matplotlib.pyplot as plt\n",
        "from sklearn.model_selection import train_test_split\n",
        "from sklearn.preprocessing import StandardScaler\n",
        "\n",
        "# %matplotlib inline\n"
      ]
    },
    {
      "cell_type": "code",
      "source": [
        "class FKModel(nn.Module):\n",
        "\n",
        "    ## Input layer (6 motor values) --> Hidden layer1 (ex-12 neurons) --> Hidden layer2 (ex-18 neurons) --> Output layer (6 pos values)\n",
        "\n",
        "    def __init__(self, in_features=6, h1=12, h2=18, out_features=6):\n",
        "        super().__init__()  # instantiate our nn.module\n",
        "        self.fc1 = nn.Linear(in_features, h1)\n",
        "        self.fc2 = nn.Linear(h1, h2)\n",
        "        self.out = nn.Linear(h2, out_features)\n",
        "\n",
        "    def forward(self, x):\n",
        "        x = F.relu(self.fc1(x))\n",
        "        x = F.relu(self.fc2(x))\n",
        "        x = self.out(x)\n",
        "        return x\n",
        "\n",
        "torch.manual_seed(42)\n",
        "model = FKModel()\n",
        "print(model)"
      ],
      "metadata": {
        "colab": {
          "base_uri": "https://localhost:8080/"
        },
        "id": "S6eiYFf-ATrq",
        "outputId": "6192d872-e063-4346-f712-2bc1d0de340f"
      },
      "execution_count": 27,
      "outputs": [
        {
          "output_type": "stream",
          "name": "stdout",
          "text": [
            "FKModel(\n",
            "  (fc1): Linear(in_features=6, out_features=12, bias=True)\n",
            "  (fc2): Linear(in_features=12, out_features=18, bias=True)\n",
            "  (out): Linear(in_features=18, out_features=6, bias=True)\n",
            ")\n"
          ]
        }
      ]
    },
    {
      "cell_type": "code",
      "source": [
        "motor_url = 'https://raw.githubusercontent.com/ShashankMA02/CSV_data_of_Hexa/main/XY_0_50_s1_mot.csv'\n",
        "position_url = 'https://raw.githubusercontent.com/ShashankMA02/CSV_data_of_Hexa/main/XY_0_50_s1_pos.csv'\n",
        "\n",
        "mot_df = pd.read_csv(motor_url)\n",
        "pos_df = pd.read_csv(position_url)\n",
        "\n",
        "# Train Test Split set X, y\n",
        "X = mot_df  # Motors values as input\n",
        "y = pos_df  # Position values as output , hence Forward Kinematics\n",
        "\n",
        "# Normalize the data\n",
        "scaler_motors = StandardScaler()\n",
        "scaler_positions = StandardScaler()\n",
        "\n",
        "X = scaler_motors.fit_transform(X)\n",
        "y = scaler_positions.fit_transform(y)"
      ],
      "metadata": {
        "id": "9I5SPJtzAZGR"
      },
      "execution_count": 28,
      "outputs": []
    },
    {
      "cell_type": "code",
      "source": [
        "# Train Test Split\n",
        "X_train, X_test, y_train, y_test = train_test_split(X, y, test_size=0.2, random_state=42)\n",
        "\n",
        "# Convert X features to float tensors\n",
        "X_train = torch.FloatTensor(X_train)\n",
        "X_test = torch.FloatTensor(X_test)\n",
        "\n",
        "# Convert y features to float tensors\n",
        "y_train = torch.FloatTensor(y_train)\n",
        "y_test = torch.FloatTensor(y_test)\n",
        "\n",
        "# Criterion to measure error of prediction\n",
        "criterion = nn.MSELoss()\n",
        "\n",
        "# Optimizer and learning rate\n",
        "optimizer = torch.optim.Adam(model.parameters(), lr=0.001)\n"
      ],
      "metadata": {
        "id": "djEFTCIwAh3S"
      },
      "execution_count": 29,
      "outputs": []
    },
    {
      "cell_type": "code",
      "source": [
        "# Model training\n",
        "epochs = 1000\n",
        "losses = []\n",
        "\n",
        "for i in range(epochs):\n",
        "    # go forward and get a prediction\n",
        "    y_pred = model.forward(X_train)      # get predicted results\n",
        "\n",
        "    # Measure the loss/error, gonna be high at first\n",
        "    loss = criterion(y_pred, y_train)    #predicted values vs the y_train\n",
        "\n",
        "    # keep track of our losses\n",
        "    losses.append(loss.detach().numpy())\n",
        "\n",
        "    # print every 10 epochs\n",
        "    if i % 10 == 0:\n",
        "        print(f'Epochs: {i} and loss: {loss}')\n",
        "\n",
        "    # Do some backpropagation: take the error rate of forward propagation and\n",
        "    # feed it back through the network to fine-tune the weights\n",
        "    optimizer.zero_grad()\n",
        "    loss.backward()\n",
        "    optimizer.step()\n",
        "\n",
        "# Graph it out\n",
        "plt.plot(range(epochs), losses)\n",
        "plt.ylabel('Loss / Error')\n",
        "plt.xlabel('Epochs')\n",
        "plt.show()"
      ],
      "metadata": {
        "colab": {
          "base_uri": "https://localhost:8080/",
          "height": 1000
        },
        "id": "WtPubo_AAnvp",
        "outputId": "9c27d5da-afee-4fd4-d939-dd4e1e2b5ba1"
      },
      "execution_count": 30,
      "outputs": [
        {
          "output_type": "stream",
          "name": "stdout",
          "text": [
            "Epochs: 0 and loss: 0.3462315797805786\n",
            "Epochs: 10 and loss: 0.3235166668891907\n",
            "Epochs: 20 and loss: 0.30492955446243286\n",
            "Epochs: 30 and loss: 0.2878602147102356\n",
            "Epochs: 40 and loss: 0.270646870136261\n",
            "Epochs: 50 and loss: 0.25173643231391907\n",
            "Epochs: 60 and loss: 0.2298579216003418\n",
            "Epochs: 70 and loss: 0.20353280007839203\n",
            "Epochs: 80 and loss: 0.17311358451843262\n",
            "Epochs: 90 and loss: 0.13973359763622284\n",
            "Epochs: 100 and loss: 0.10563923418521881\n",
            "Epochs: 110 and loss: 0.07373461872339249\n",
            "Epochs: 120 and loss: 0.046977605670690536\n",
            "Epochs: 130 and loss: 0.02755536139011383\n",
            "Epochs: 140 and loss: 0.015869833528995514\n",
            "Epochs: 150 and loss: 0.010228533297777176\n",
            "Epochs: 160 and loss: 0.007957703433930874\n",
            "Epochs: 170 and loss: 0.006971597671508789\n",
            "Epochs: 180 and loss: 0.006314762867987156\n",
            "Epochs: 190 and loss: 0.005777841433882713\n",
            "Epochs: 200 and loss: 0.0053643533028662205\n",
            "Epochs: 210 and loss: 0.005015457980334759\n",
            "Epochs: 220 and loss: 0.004686830099672079\n",
            "Epochs: 230 and loss: 0.00437321700155735\n",
            "Epochs: 240 and loss: 0.004087232518941164\n",
            "Epochs: 250 and loss: 0.0038102013058960438\n",
            "Epochs: 260 and loss: 0.003546851221472025\n",
            "Epochs: 270 and loss: 0.003304974874481559\n",
            "Epochs: 280 and loss: 0.0030843340791761875\n",
            "Epochs: 290 and loss: 0.0028809369541704655\n",
            "Epochs: 300 and loss: 0.0026917182840406895\n",
            "Epochs: 310 and loss: 0.002512701554223895\n",
            "Epochs: 320 and loss: 0.002343058353289962\n",
            "Epochs: 330 and loss: 0.002184551674872637\n",
            "Epochs: 340 and loss: 0.00203711143694818\n",
            "Epochs: 350 and loss: 0.0019009996904060245\n",
            "Epochs: 360 and loss: 0.0017744452925398946\n",
            "Epochs: 370 and loss: 0.0016569177387282252\n",
            "Epochs: 380 and loss: 0.0015479754656553268\n",
            "Epochs: 390 and loss: 0.0014475388452410698\n",
            "Epochs: 400 and loss: 0.0013549147406592965\n",
            "Epochs: 410 and loss: 0.001269676024094224\n",
            "Epochs: 420 and loss: 0.001191039220429957\n",
            "Epochs: 430 and loss: 0.0011178727727383375\n",
            "Epochs: 440 and loss: 0.0010504802921786904\n",
            "Epochs: 450 and loss: 0.0009880695724859834\n",
            "Epochs: 460 and loss: 0.0009302872931584716\n",
            "Epochs: 470 and loss: 0.0008765033562667668\n",
            "Epochs: 480 and loss: 0.0008260144386440516\n",
            "Epochs: 490 and loss: 0.0007789006340317428\n",
            "Epochs: 500 and loss: 0.0007347274804487824\n",
            "Epochs: 510 and loss: 0.0006935452693141997\n",
            "Epochs: 520 and loss: 0.0006550230900757015\n",
            "Epochs: 530 and loss: 0.0006190178100951016\n",
            "Epochs: 540 and loss: 0.0005856758216395974\n",
            "Epochs: 550 and loss: 0.0005547793116420507\n",
            "Epochs: 560 and loss: 0.0005260094767436385\n",
            "Epochs: 570 and loss: 0.0004993497277610004\n",
            "Epochs: 580 and loss: 0.00047456129686906934\n",
            "Epochs: 590 and loss: 0.0004514669708441943\n",
            "Epochs: 600 and loss: 0.0004298330459278077\n",
            "Epochs: 610 and loss: 0.0004096678749192506\n",
            "Epochs: 620 and loss: 0.00039077081601135433\n",
            "Epochs: 630 and loss: 0.00037317859823815525\n",
            "Epochs: 640 and loss: 0.0003567010280676186\n",
            "Epochs: 650 and loss: 0.0003412409860175103\n",
            "Epochs: 660 and loss: 0.0003266486746724695\n",
            "Epochs: 670 and loss: 0.0003128287207800895\n",
            "Epochs: 680 and loss: 0.00029973010532557964\n",
            "Epochs: 690 and loss: 0.00028728743200190365\n",
            "Epochs: 700 and loss: 0.0002754959277808666\n",
            "Epochs: 710 and loss: 0.00026440765941515565\n",
            "Epochs: 720 and loss: 0.0002540099376346916\n",
            "Epochs: 730 and loss: 0.0002442259865347296\n",
            "Epochs: 740 and loss: 0.00023499468807131052\n",
            "Epochs: 750 and loss: 0.00022622552933171391\n",
            "Epochs: 760 and loss: 0.000217848239117302\n",
            "Epochs: 770 and loss: 0.00020986961317248642\n",
            "Epochs: 780 and loss: 0.0002022967382799834\n",
            "Epochs: 790 and loss: 0.000195144530152902\n",
            "Epochs: 800 and loss: 0.000188351608812809\n",
            "Epochs: 810 and loss: 0.0001818938326323405\n",
            "Epochs: 820 and loss: 0.00017581053543835878\n",
            "Epochs: 830 and loss: 0.00017006098642013967\n",
            "Epochs: 840 and loss: 0.0001645653828745708\n",
            "Epochs: 850 and loss: 0.0001592847693245858\n",
            "Epochs: 860 and loss: 0.00015425047604367137\n",
            "Epochs: 870 and loss: 0.00014954383368603885\n",
            "Epochs: 880 and loss: 0.00014509439643006772\n",
            "Epochs: 890 and loss: 0.0001408423704560846\n",
            "Epochs: 900 and loss: 0.00013682797725778073\n",
            "Epochs: 910 and loss: 0.00013305709580890834\n",
            "Epochs: 920 and loss: 0.0001295095862587914\n",
            "Epochs: 930 and loss: 0.00012616650201380253\n",
            "Epochs: 940 and loss: 0.00012300690286792815\n",
            "Epochs: 950 and loss: 0.0001200298938783817\n",
            "Epochs: 960 and loss: 0.00011723916395567358\n",
            "Epochs: 970 and loss: 0.00011461930989753455\n",
            "Epochs: 980 and loss: 0.00011213801917620003\n",
            "Epochs: 990 and loss: 0.00010978133650496602\n"
          ]
        },
        {
          "output_type": "display_data",
          "data": {
            "text/plain": [
              "<Figure size 640x480 with 1 Axes>"
            ],
            "image/png": "[encoded data removed]"
          },
          "metadata": {}
        }
      ]
    },
    {
      "cell_type": "code",
      "source": [
        "# Evaluate Model on Test data set\n",
        "with torch.no_grad():\n",
        "    y_eval = model.forward(X_test)\n",
        "    loss = criterion(y_eval, y_test)\n",
        "    print(f'Loss: {loss}')\n",
        "\n",
        "# New motor values for prediction\n",
        "motors_new = [[2122,2287,2353,1855,1838,1819]]  # Replace with actual new motor values\n",
        "\n",
        "# Normalize the new motor values\n",
        "motors_new = scaler_motors.transform(motors_new)\n",
        "motors_new = torch.tensor(motors_new, dtype=torch.float32)\n",
        "\n",
        "# Make predictions\n",
        "model.eval()\n",
        "with torch.no_grad():\n",
        "    positions_pred = model(motors_new)\n",
        "    positions_pred = scaler_positions.inverse_transform(positions_pred.numpy())\n",
        "\n",
        "print('Predicted positions:', positions_pred)"
      ],
      "metadata": {
        "colab": {
          "base_uri": "https://localhost:8080/"
        },
        "id": "TRfaiCwHAtLe",
        "outputId": "5bdd2488-d8b5-4a87-e2d0-baf92e7fd76a"
      },
      "execution_count": 31,
      "outputs": [
        {
          "output_type": "stream",
          "name": "stdout",
          "text": [
            "Loss: 0.00011390275903977454\n",
            "Predicted positions: [[ 5.0532722e+01  5.0135258e+01  2.9001016e+02  1.3275877e-02\n",
            "  -5.5116788e-04  2.2212025e-03]]\n"
          ]
        },
        {
          "output_type": "stream",
          "name": "stderr",
          "text": [
            "/usr/local/lib/python3.10/dist-packages/sklearn/base.py:439: UserWarning: X does not have valid feature names, but StandardScaler was fitted with feature names\n",
            "  warnings.warn(\n"
          ]
        }
      ]
    }
  ]
}