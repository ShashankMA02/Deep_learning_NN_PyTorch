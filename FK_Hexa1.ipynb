{
  "nbformat": 4,
  "nbformat_minor": 0,
  "metadata": {
    "colab": {
      "provenance": [],
      "gpuType": "T4",
      "authorship_tag": "ABX9TyM9PIKyDyv1fjqlb4YjrSLB",
      "include_colab_link": true
    },
    "kernelspec": {
      "name": "python3",
      "display_name": "Python 3"
    },
    "language_info": {
      "name": "python"
    },
    "accelerator": "GPU"
  },
  "cells": [
    {
      "cell_type": "markdown",
      "metadata": {
        "id": "view-in-github",
        "colab_type": "text"
      },
      "source": [
        "<a href=\"https://colab.research.google.com/github/ShashankMA02/PyTorch-start/blob/main/FK_Hexa1.ipynb\" target=\"_parent\"><img src=\"https://colab.research.google.com/assets/colab-badge.svg\" alt=\"Open In Colab\"/></a>"
      ]
    },
    {
      "cell_type": "code",
      "execution_count": 32,
      "metadata": {
        "id": "ebmwddecLuba"
      },
      "outputs": [],
      "source": [
        "import torch\n",
        "import torch.nn as nn\n",
        "import torch.nn.functional as F\n",
        "\n",
        "import pandas as pd\n",
        "import matplotlib.pyplot as plt\n",
        "%matplotlib inline\n",
        "\n",
        "from sklearn.model_selection import train_test_split"
      ]
    },
    {
      "cell_type": "code",
      "source": [
        "class FKModel(nn.Module):\n",
        "\n",
        "  ## Input layer (6 motor values) --> Hidden layer1 (ex-12 neurons) --> Hidden layer2 (ex-18 neurons) --> Output layer (6 pos values)\n",
        "\n",
        "  def __init__(self, in_features=6, h1=12, h2=18, out_features=6):\n",
        "\n",
        "    super().__init__()  # instantiate our nn.module\n",
        "\n",
        "    self.fc1 = nn.Linear(in_features, h1)\n",
        "    self.fc2 = nn.Linear(h1, h2)\n",
        "    self.out = nn.Linear(h2, out_features)\n",
        "\n",
        "\n",
        "  def forward(self, x):\n",
        "    x = F.relu(self.fc1(x))\n",
        "    x = F.relu(self.fc2(x))\n",
        "    x = self.out(x)\n",
        "\n",
        "    return x\n"
      ],
      "metadata": {
        "id": "YUk1WbdSQpLj"
      },
      "execution_count": 33,
      "outputs": []
    },
    {
      "cell_type": "code",
      "source": [
        "torch.manual_seed(42)\n",
        "model = FKModel()\n",
        "print(model)\n"
      ],
      "metadata": {
        "colab": {
          "base_uri": "https://localhost:8080/"
        },
        "id": "7w8B-coYQsUh",
        "outputId": "374f9d8d-8943-41e6-cc9d-c42f2eb38d5d"
      },
      "execution_count": 34,
      "outputs": [
        {
          "output_type": "stream",
          "name": "stdout",
          "text": [
            "FKModel(\n",
            "  (fc1): Linear(in_features=6, out_features=12, bias=True)\n",
            "  (fc2): Linear(in_features=12, out_features=18, bias=True)\n",
            "  (out): Linear(in_features=18, out_features=6, bias=True)\n",
            ")\n"
          ]
        }
      ]
    },
    {
      "cell_type": "code",
      "source": [
        "motor_url = 'https://raw.githubusercontent.com/ShashankMA02/CSV_data_of_Hexa/main/XY_0_50_s1_mot.csv'\n",
        "position_url = 'https://raw.githubusercontent.com/ShashankMA02/CSV_data_of_Hexa/main/XY_0_50_s1_pos.csv'\n",
        "\n",
        "mot_df = pd.read_csv(motor_url)\n",
        "pos_df = pd.read_csv(position_url)\n",
        "\n",
        "# pos_df\n",
        "# mot_df"
      ],
      "metadata": {
        "id": "Lm8H7LSTQwSD"
      },
      "execution_count": 35,
      "outputs": []
    },
    {
      "cell_type": "code",
      "source": [
        "# Train Test Split set X, y\n",
        "\n",
        "X = mot_df  # Motors values as input\n",
        "y = pos_df  # Position values as output , hence Forward Kinematics\n",
        "\n",
        "# Convert these to numpy array\n",
        "X = X.values\n",
        "y = y.values"
      ],
      "metadata": {
        "id": "nZ66s-rgSPAU"
      },
      "execution_count": 36,
      "outputs": []
    },
    {
      "cell_type": "code",
      "source": [
        "# Train Test Split\n",
        "\n",
        "X_train, X_test, y_train, y_test = train_test_split(X, y, test_size=0.2, random_state=42)\n",
        "\n",
        "# Convert X features to float tensors\n",
        "X_train = torch.FloatTensor(X_train)\n",
        "X_test = torch.FloatTensor(X_test)\n",
        "\n",
        "# Convert y features to float tensors\n",
        "y_train = torch.FloatTensor(y_train)\n",
        "y_test = torch.FloatTensor(y_test)\n",
        "\n",
        "# Criterion to measure error of prediction\n",
        "criterion = nn.CrossEntropyLoss()\n",
        "\n",
        "# Optimizer and learning rate\n",
        "optimizer = torch.optim.Adam(model.parameters(), lr=0.001)\n"
      ],
      "metadata": {
        "id": "iPqF7JXETXE4"
      },
      "execution_count": 37,
      "outputs": []
    },
    {
      "cell_type": "code",
      "source": [
        "# Model training\n",
        "\n",
        "epochs = 1000\n",
        "losses = []\n",
        "\n",
        "for i in range(epochs):\n",
        "\n",
        "  # go forward and get a prediction\n",
        "  y_pred = model.forward(X_train)      # get predicted results\n",
        "\n",
        "  # Measure the loss/error, gonna be high at first\n",
        "  loss = criterion(y_pred, y_train)    #predicted values vs the y_train\n",
        "\n",
        "  # keep track of our losses\n",
        "  losses.append(loss.detach().numpy())\n",
        "\n",
        "  # print every 10 epochs\n",
        "  if i%10 == 0:\n",
        "    print(f'Epochs: {i} and loss: {loss}')\n",
        "\n",
        "\n",
        "  # Do some back propogation: take the error rate of forward propogation and\n",
        "  # feed it back through the network to fine tune the weights\n",
        "\n",
        "  optimizer.zero_grad()\n",
        "  loss.backward()\n",
        "  optimizer.step()"
      ],
      "metadata": {
        "colab": {
          "base_uri": "https://localhost:8080/"
        },
        "id": "n3h3mgdZVq5p",
        "outputId": "c8682c0f-7c70-4843-bf45-85f30fab62a7"
      },
      "execution_count": 38,
      "outputs": [
        {
          "output_type": "stream",
          "name": "stdout",
          "text": [
            "Epochs: 0 and loss: 95803.3359375\n",
            "Epochs: 10 and loss: 42611.23046875\n",
            "Epochs: 20 and loss: 16738.5234375\n",
            "Epochs: 30 and loss: 5887.55859375\n",
            "Epochs: 40 and loss: 5386.265625\n",
            "Epochs: 50 and loss: 4078.78466796875\n",
            "Epochs: 60 and loss: 2534.8271484375\n",
            "Epochs: 70 and loss: 1809.6278076171875\n",
            "Epochs: 80 and loss: 1239.6236572265625\n",
            "Epochs: 90 and loss: 631.947509765625\n",
            "Epochs: 100 and loss: 375.15631103515625\n",
            "Epochs: 110 and loss: 335.77142333984375\n",
            "Epochs: 120 and loss: 331.00048828125\n",
            "Epochs: 130 and loss: 318.19439697265625\n",
            "Epochs: 140 and loss: 312.34027099609375\n",
            "Epochs: 150 and loss: 306.2912292480469\n",
            "Epochs: 160 and loss: 300.6988220214844\n",
            "Epochs: 170 and loss: 295.3301086425781\n",
            "Epochs: 180 and loss: 289.8837890625\n",
            "Epochs: 190 and loss: 284.4617614746094\n",
            "Epochs: 200 and loss: 279.08404541015625\n",
            "Epochs: 210 and loss: 273.759521484375\n",
            "Epochs: 220 and loss: 268.506103515625\n",
            "Epochs: 230 and loss: 263.3441162109375\n",
            "Epochs: 240 and loss: 258.2938537597656\n",
            "Epochs: 250 and loss: 253.37481689453125\n",
            "Epochs: 260 and loss: 248.6064453125\n",
            "Epochs: 270 and loss: 244.00732421875\n",
            "Epochs: 280 and loss: 239.59494018554688\n",
            "Epochs: 290 and loss: 235.38546752929688\n",
            "Epochs: 300 and loss: 231.39300537109375\n",
            "Epochs: 310 and loss: 227.6291961669922\n",
            "Epochs: 320 and loss: 224.10272216796875\n",
            "Epochs: 330 and loss: 220.81878662109375\n",
            "Epochs: 340 and loss: 217.77899169921875\n",
            "Epochs: 350 and loss: 214.98092651367188\n",
            "Epochs: 360 and loss: 212.41864013671875\n",
            "Epochs: 370 and loss: 210.08251953125\n",
            "Epochs: 380 and loss: 207.96006774902344\n",
            "Epochs: 390 and loss: 206.03646850585938\n",
            "Epochs: 400 and loss: 204.2952423095703\n",
            "Epochs: 410 and loss: 202.71902465820312\n",
            "Epochs: 420 and loss: 201.2903594970703\n",
            "Epochs: 430 and loss: 199.99203491210938\n",
            "Epochs: 440 and loss: 198.80792236328125\n",
            "Epochs: 450 and loss: 197.72286987304688\n",
            "Epochs: 460 and loss: 196.72328186035156\n",
            "Epochs: 470 and loss: 195.79708862304688\n",
            "Epochs: 480 and loss: 194.93359375\n",
            "Epochs: 490 and loss: 194.1237030029297\n",
            "Epochs: 500 and loss: 193.3597412109375\n",
            "Epochs: 510 and loss: 192.63514709472656\n",
            "Epochs: 520 and loss: 191.94451904296875\n",
            "Epochs: 530 and loss: 191.28335571289062\n",
            "Epochs: 540 and loss: 190.64817810058594\n",
            "Epochs: 550 and loss: 190.03599548339844\n",
            "Epochs: 560 and loss: 189.44456481933594\n",
            "Epochs: 570 and loss: 188.8719482421875\n",
            "Epochs: 580 and loss: 188.31668090820312\n",
            "Epochs: 590 and loss: 187.7776641845703\n",
            "Epochs: 600 and loss: 187.25399780273438\n",
            "Epochs: 610 and loss: 186.7449188232422\n",
            "Epochs: 620 and loss: 186.24993896484375\n",
            "Epochs: 630 and loss: 185.76858520507812\n",
            "Epochs: 640 and loss: 185.30043029785156\n",
            "Epochs: 650 and loss: 184.84524536132812\n",
            "Epochs: 660 and loss: 184.40280151367188\n",
            "Epochs: 670 and loss: 183.9727783203125\n",
            "Epochs: 680 and loss: 183.5550537109375\n",
            "Epochs: 690 and loss: 183.1494140625\n",
            "Epochs: 700 and loss: 182.7556610107422\n",
            "Epochs: 710 and loss: 182.37356567382812\n",
            "Epochs: 720 and loss: 182.00302124023438\n",
            "Epochs: 730 and loss: 181.6438446044922\n",
            "Epochs: 740 and loss: 181.29574584960938\n",
            "Epochs: 750 and loss: 180.95864868164062\n",
            "Epochs: 760 and loss: 180.6322784423828\n",
            "Epochs: 770 and loss: 180.31643676757812\n",
            "Epochs: 780 and loss: 180.0109405517578\n",
            "Epochs: 790 and loss: 179.71554565429688\n",
            "Epochs: 800 and loss: 179.4300537109375\n",
            "Epochs: 810 and loss: 179.1542205810547\n",
            "Epochs: 820 and loss: 178.88783264160156\n",
            "Epochs: 830 and loss: 178.6306610107422\n",
            "Epochs: 840 and loss: 178.38247680664062\n",
            "Epochs: 850 and loss: 178.14305114746094\n",
            "Epochs: 860 and loss: 177.91213989257812\n",
            "Epochs: 870 and loss: 177.68955993652344\n",
            "Epochs: 880 and loss: 177.4750518798828\n",
            "Epochs: 890 and loss: 177.26834106445312\n",
            "Epochs: 900 and loss: 177.0692901611328\n",
            "Epochs: 910 and loss: 176.87762451171875\n",
            "Epochs: 920 and loss: 176.69308471679688\n",
            "Epochs: 930 and loss: 176.5155487060547\n",
            "Epochs: 940 and loss: 176.3446807861328\n",
            "Epochs: 950 and loss: 176.18035888671875\n",
            "Epochs: 960 and loss: 176.0223388671875\n",
            "Epochs: 970 and loss: 175.87042236328125\n",
            "Epochs: 980 and loss: 175.72438049316406\n",
            "Epochs: 990 and loss: 175.58407592773438\n"
          ]
        }
      ]
    },
    {
      "cell_type": "code",
      "source": [
        "  # graph it out\n",
        "plt.plot(range(epochs), losses)\n",
        "plt.ylabel('Loss / Error')\n",
        "plt.xlabel('Epochs')"
      ],
      "metadata": {
        "colab": {
          "base_uri": "https://localhost:8080/",
          "height": 470
        },
        "id": "VqrNCOZJZXz_",
        "outputId": "68e39751-0ebd-4f5f-ed5c-104d4eeed018"
      },
      "execution_count": 39,
      "outputs": [
        {
          "output_type": "execute_result",
          "data": {
            "text/plain": [
              "Text(0.5, 0, 'Epochs')"
            ]
          },
          "metadata": {},
          "execution_count": 39
        },
        {
          "output_type": "display_data",
          "data": {
            "text/plain": [
              "<Figure size 640x480 with 1 Axes>"
            ],
            "image/png": "[encoded data removed]"
          },
          "metadata": {}
        }
      ]
    },
    {
      "cell_type": "code",
      "source": [
        "# Evaluate Model on Test data set\n",
        "\n",
        "with torch.no_grad():\n",
        "  y_eval = model.forward(X_test)\n",
        "  loss = criterion(y_eval, y_test)\n",
        "\n",
        "  print(f'Loss: {loss}')"
      ],
      "metadata": {
        "colab": {
          "base_uri": "https://localhost:8080/"
        },
        "id": "Ba5ubhviZijG",
        "outputId": "d335dd8a-9246-40cd-f364-d4745f35abe0"
      },
      "execution_count": 40,
      "outputs": [
        {
          "output_type": "stream",
          "name": "stdout",
          "text": [
            "Loss: 177.11215209960938\n"
          ]
        }
      ]
    },
    {
      "cell_type": "code",
      "source": [
        "# New motor values for prediction\n",
        "motors_new = [[1.0, 2.0, 3.0, 4.0, 5.0, 6.0]]  # Replace with actual new motor values\n",
        "\n",
        "# Normalize the new motor values\n",
        "motors_new = scaler_motors.transform(motors_new)\n",
        "motors_new = torch.tensor(motors_new, dtype=torch.float32)\n",
        "\n",
        "# Make predictions\n",
        "model.eval()\n",
        "with torch.no_grad():\n",
        "    positions_pred = model(motors_new)\n",
        "    positions_pred = scaler_positions.inverse_transform(positions_pred.numpy())\n",
        "\n",
        "print('Predicted positions:', positions_pred)\n"
      ],
      "metadata": {
        "colab": {
          "base_uri": "https://localhost:8080/",
          "height": 211
        },
        "id": "BAAF9uKfa0Z1",
        "outputId": "3dd771b7-d0e0-46cb-9880-4298754a7611"
      },
      "execution_count": 41,
      "outputs": [
        {
          "output_type": "error",
          "ename": "NameError",
          "evalue": "name 'scaler_motors' is not defined",
          "traceback": [
            "\u001b[0;31m---------------------------------------------------------------------------\u001b[0m",
            "\u001b[0;31mNameError\u001b[0m                                 Traceback (most recent call last)",
            "\u001b[0;32m<ipython-input-41-99b3764e7c48>\u001b[0m in \u001b[0;36m<cell line: 5>\u001b[0;34m()\u001b[0m\n\u001b[1;32m      3\u001b[0m \u001b[0;34m\u001b[0m\u001b[0m\n\u001b[1;32m      4\u001b[0m \u001b[0;31m# Normalize the new motor values\u001b[0m\u001b[0;34m\u001b[0m\u001b[0;34m\u001b[0m\u001b[0m\n\u001b[0;32m----> 5\u001b[0;31m \u001b[0mmotors_new\u001b[0m \u001b[0;34m=\u001b[0m \u001b[0mscaler_motors\u001b[0m\u001b[0;34m.\u001b[0m\u001b[0mtransform\u001b[0m\u001b[0;34m(\u001b[0m\u001b[0mmotors_new\u001b[0m\u001b[0;34m)\u001b[0m\u001b[0;34m\u001b[0m\u001b[0;34m\u001b[0m\u001b[0m\n\u001b[0m\u001b[1;32m      6\u001b[0m \u001b[0mmotors_new\u001b[0m \u001b[0;34m=\u001b[0m \u001b[0mtorch\u001b[0m\u001b[0;34m.\u001b[0m\u001b[0mtensor\u001b[0m\u001b[0;34m(\u001b[0m\u001b[0mmotors_new\u001b[0m\u001b[0;34m,\u001b[0m \u001b[0mdtype\u001b[0m\u001b[0;34m=\u001b[0m\u001b[0mtorch\u001b[0m\u001b[0;34m.\u001b[0m\u001b[0mfloat32\u001b[0m\u001b[0;34m)\u001b[0m\u001b[0;34m\u001b[0m\u001b[0;34m\u001b[0m\u001b[0m\n\u001b[1;32m      7\u001b[0m \u001b[0;34m\u001b[0m\u001b[0m\n",
            "\u001b[0;31mNameError\u001b[0m: name 'scaler_motors' is not defined"
          ]
        }
      ]
    }
  ]
}