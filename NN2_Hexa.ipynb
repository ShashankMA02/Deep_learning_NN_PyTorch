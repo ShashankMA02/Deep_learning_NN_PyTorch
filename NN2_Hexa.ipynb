{
  "cells": [
    {
      "cell_type": "markdown",
      "metadata": {
        "id": "view-in-github",
        "colab_type": "text"
      },
      "source": [
        "<a href=\"https://colab.research.google.com/github/ShashankMA02/Deep_learning_NN_PyTorch/blob/main/NN2_Hexa.ipynb\" target=\"_parent\"><img src=\"https://colab.research.google.com/assets/colab-badge.svg\" alt=\"Open In Colab\"/></a>"
      ]
    },
    {
      "cell_type": "code",
      "execution_count": 6,
      "metadata": {
        "id": "RufKy-prJipF"
      },
      "outputs": [],
      "source": [
        "## Many layers\n",
        "\n",
        "\n",
        "import torch\n",
        "import torch.nn as nn\n",
        "import torch.nn.functional as F\n",
        "\n",
        "import pandas as pd\n",
        "import matplotlib.pyplot as plt\n",
        "from sklearn.model_selection import train_test_split\n",
        "from sklearn.preprocessing import StandardScaler\n",
        "\n",
        "# %matplotlib inline"
      ]
    },
    {
      "cell_type": "code",
      "execution_count": 7,
      "metadata": {
        "colab": {
          "base_uri": "https://localhost:8080/"
        },
        "id": "ECXx7mGcJwrQ",
        "outputId": "0a77e775-30bc-4428-9362-13397ef0e51e"
      },
      "outputs": [
        {
          "output_type": "stream",
          "name": "stdout",
          "text": [
            "FKModel(\n",
            "  (input_layer): Linear(in_features=6, out_features=60, bias=True)\n",
            "  (hidden_layers): ModuleList(\n",
            "    (0-9): 10 x Linear(in_features=60, out_features=60, bias=True)\n",
            "  )\n",
            "  (output_layer): Linear(in_features=60, out_features=6, bias=True)\n",
            ")\n"
          ]
        }
      ],
      "source": [
        "class FKModel(nn.Module):\n",
        "    def __init__(self, in_features=6, hidden_size=60, num_layers=10, out_features=6):\n",
        "        super(FKModel, self).__init__()\n",
        "\n",
        "        # Initial input layer\n",
        "        self.input_layer = nn.Linear(in_features, hidden_size)\n",
        "\n",
        "        # Hidden layers\n",
        "        self.hidden_layers = nn.ModuleList(\n",
        "            [nn.Linear(hidden_size, hidden_size) for _ in range(num_layers)]\n",
        "        )\n",
        "\n",
        "        # Output layer\n",
        "        self.output_layer = nn.Linear(hidden_size, out_features)\n",
        "\n",
        "    def forward(self, x):\n",
        "        x = F.relu(self.input_layer(x))\n",
        "        for layer in self.hidden_layers:\n",
        "            x = F.relu(layer(x))\n",
        "        x = self.output_layer(x)\n",
        "        return x\n",
        "\n",
        "torch.manual_seed(42)\n",
        "model = FKModel()\n",
        "print(model)"
      ]
    },
    {
      "cell_type": "code",
      "execution_count": 8,
      "metadata": {
        "id": "uzI8y69qJ1Qj"
      },
      "outputs": [],
      "source": [
        "# motor_url = 'https://raw.githubusercontent.com/ShashankMA02/CSV_data_of_Hexa/main/XY_0_50_s1_mot.csv'\n",
        "# position_url = 'https://raw.githubusercontent.com/ShashankMA02/CSV_data_of_Hexa/main/XY_0_50_s1_pos.csv'\n",
        "\n",
        "motor_url = 'https://raw.githubusercontent.com/ShashankMA02/CSV_data_of_Hexa/main/Motor_Data_master_copy.csv'\n",
        "\n",
        "position_url = 'https://raw.githubusercontent.com/ShashankMA02/CSV_data_of_Hexa/main/Position_Data_master_copy.csv'\n",
        "\n",
        "mot_df = pd.read_csv(motor_url)\n",
        "pos_df = pd.read_csv(position_url)\n",
        "\n",
        "# Train Test Split set X, y\n",
        "X = mot_df  # Motors values as input\n",
        "y = pos_df  # Position values as output , hence Forward Kinematics\n",
        "\n",
        "# Normalize the data\n",
        "scaler_motors = StandardScaler()\n",
        "scaler_positions = StandardScaler()\n",
        "\n",
        "X = scaler_motors.fit_transform(X)\n",
        "y = scaler_positions.fit_transform(y)"
      ]
    },
    {
      "cell_type": "code",
      "execution_count": 9,
      "metadata": {
        "colab": {
          "base_uri": "https://localhost:8080/",
          "height": 1000
        },
        "id": "US8qY5laKCJk",
        "outputId": "1879259e-ea73-43e4-9c0c-4cf9e2781d5a"
      },
      "outputs": [
        {
          "output_type": "stream",
          "name": "stdout",
          "text": [
            "Epochs: 0 and loss: 0.34217193722724915\n",
            "Epochs: 10 and loss: 0.33642691373825073\n",
            "Epochs: 20 and loss: 0.3317508399486542\n",
            "Epochs: 30 and loss: 0.3117620646953583\n",
            "Epochs: 40 and loss: 0.21330279111862183\n",
            "Epochs: 50 and loss: 0.15826180577278137\n",
            "Epochs: 60 and loss: 0.07891935110092163\n",
            "Epochs: 70 and loss: 0.0317213274538517\n",
            "Epochs: 80 and loss: 0.01278883870691061\n",
            "Epochs: 90 and loss: 0.0032976658549159765\n",
            "Epochs: 100 and loss: 0.0010662070708349347\n",
            "Epochs: 110 and loss: 0.0008913309429772198\n",
            "Epochs: 120 and loss: 0.0005623530014418066\n",
            "Epochs: 130 and loss: 0.0003536031290423125\n",
            "Epochs: 140 and loss: 0.0002763868833426386\n",
            "Epochs: 150 and loss: 0.00020122795831412077\n",
            "Epochs: 160 and loss: 0.0016255766386166215\n",
            "Epochs: 170 and loss: 0.002369823632761836\n",
            "Epochs: 180 and loss: 0.00022916386660654098\n",
            "Epochs: 190 and loss: 0.00040442554745823145\n",
            "Epochs: 200 and loss: 0.00015578993770759553\n",
            "Epochs: 210 and loss: 0.00014383021334651858\n",
            "Epochs: 220 and loss: 0.00010751603986136615\n",
            "Epochs: 230 and loss: 9.838828555075452e-05\n",
            "Epochs: 240 and loss: 9.036102710524574e-05\n",
            "Epochs: 250 and loss: 8.435841300524771e-05\n",
            "Epochs: 260 and loss: 7.84633302828297e-05\n",
            "Epochs: 270 and loss: 7.359360461123288e-05\n",
            "Epochs: 280 and loss: 6.919685984030366e-05\n",
            "Epochs: 290 and loss: 6.529301026603207e-05\n",
            "Epochs: 300 and loss: 6.173386645969003e-05\n",
            "Epochs: 310 and loss: 5.848040382261388e-05\n",
            "Epochs: 320 and loss: 5.549290290218778e-05\n",
            "Epochs: 330 and loss: 5.273673377814703e-05\n",
            "Epochs: 340 and loss: 5.028322266298346e-05\n",
            "Epochs: 350 and loss: 0.0001671548670856282\n",
            "Epochs: 360 and loss: 0.0033039457630366087\n",
            "Epochs: 370 and loss: 0.000468298327177763\n",
            "Epochs: 380 and loss: 0.00017176734399981797\n",
            "Epochs: 390 and loss: 7.672318315599114e-05\n",
            "Epochs: 400 and loss: 7.083633681759238e-05\n",
            "Epochs: 410 and loss: 5.509798938874155e-05\n",
            "Epochs: 420 and loss: 5.1890878239646554e-05\n",
            "Epochs: 430 and loss: 4.799824455403723e-05\n",
            "Epochs: 440 and loss: 4.325586269260384e-05\n",
            "Epochs: 450 and loss: 4.082839222974144e-05\n",
            "Epochs: 460 and loss: 3.854467286146246e-05\n",
            "Epochs: 470 and loss: 3.6763882235391065e-05\n",
            "Epochs: 480 and loss: 3.51747585227713e-05\n",
            "Epochs: 490 and loss: 3.3761669328669086e-05\n",
            "Epochs: 500 and loss: 3.24986940540839e-05\n",
            "Epochs: 510 and loss: 3.1341489375336096e-05\n",
            "Epochs: 520 and loss: 3.0285595130408183e-05\n",
            "Epochs: 530 and loss: 2.9332864869502373e-05\n",
            "Epochs: 540 and loss: 2.8466369258239865e-05\n",
            "Epochs: 550 and loss: 2.767327896435745e-05\n",
            "Epochs: 560 and loss: 2.694055365282111e-05\n",
            "Epochs: 570 and loss: 2.6253519536112435e-05\n",
            "Epochs: 580 and loss: 2.5617575374781154e-05\n",
            "Epochs: 590 and loss: 2.5022871341207065e-05\n",
            "Epochs: 600 and loss: 2.4452738216496073e-05\n",
            "Epochs: 610 and loss: 2.3933684133226052e-05\n",
            "Epochs: 620 and loss: 3.1488885724684224e-05\n",
            "Epochs: 630 and loss: 0.0024253763258457184\n",
            "Epochs: 640 and loss: 0.00013580903760157526\n",
            "Epochs: 650 and loss: 7.951800216687843e-05\n",
            "Epochs: 660 and loss: 5.76054590055719e-05\n",
            "Epochs: 670 and loss: 4.8038764361990616e-05\n",
            "Epochs: 680 and loss: 3.268636282882653e-05\n",
            "Epochs: 690 and loss: 2.538251101213973e-05\n",
            "Epochs: 700 and loss: 2.3048525690683164e-05\n",
            "Epochs: 710 and loss: 2.2277265088632703e-05\n",
            "Epochs: 720 and loss: 2.1229190679150634e-05\n",
            "Epochs: 730 and loss: 2.064714499283582e-05\n",
            "Epochs: 740 and loss: 2.0131557903368957e-05\n",
            "Epochs: 750 and loss: 1.9678525859490037e-05\n",
            "Epochs: 760 and loss: 1.9276147213531658e-05\n",
            "Epochs: 770 and loss: 1.8919545254902914e-05\n",
            "Epochs: 780 and loss: 1.977542160602752e-05\n",
            "Epochs: 790 and loss: 0.00045155041152611375\n",
            "Epochs: 800 and loss: 0.0015598622849211097\n",
            "Epochs: 810 and loss: 0.0002906427253037691\n",
            "Epochs: 820 and loss: 9.737309301272035e-05\n",
            "Epochs: 830 and loss: 3.5494656913215294e-05\n",
            "Epochs: 840 and loss: 2.656010110513307e-05\n",
            "Epochs: 850 and loss: 2.6117730158148333e-05\n",
            "Epochs: 860 and loss: 2.1967611246509477e-05\n",
            "Epochs: 870 and loss: 2.0647419660235755e-05\n",
            "Epochs: 880 and loss: 1.922621413541492e-05\n",
            "Epochs: 890 and loss: 1.8438089682604186e-05\n",
            "Epochs: 900 and loss: 1.7851489246822894e-05\n",
            "Epochs: 910 and loss: 1.73398875631392e-05\n",
            "Epochs: 920 and loss: 1.6910697013372555e-05\n",
            "Epochs: 930 and loss: 1.6539128409931436e-05\n",
            "Epochs: 940 and loss: 1.6204889107029885e-05\n",
            "Epochs: 950 and loss: 1.5903353414614685e-05\n",
            "Epochs: 960 and loss: 1.5626548702130094e-05\n",
            "Epochs: 970 and loss: 1.5367237210739404e-05\n",
            "Epochs: 980 and loss: 1.512736616859911e-05\n",
            "Epochs: 990 and loss: 1.4902875591360498e-05\n"
          ]
        },
        {
          "output_type": "display_data",
          "data": {
            "text/plain": [
              "<Figure size 640x480 with 1 Axes>"
            ],
            "image/png": "[encoded data removed]"
          },
          "metadata": {}
        }
      ],
      "source": [
        "# Train Test Split\n",
        "X_train, X_test, y_train, y_test = train_test_split(X, y, test_size=0.2, random_state=42)\n",
        "\n",
        "# Convert X features to float tensors\n",
        "X_train = torch.FloatTensor(X_train)\n",
        "X_test = torch.FloatTensor(X_test)\n",
        "\n",
        "# Convert y features to float tensors\n",
        "y_train = torch.FloatTensor(y_train)\n",
        "y_test = torch.FloatTensor(y_test)\n",
        "\n",
        "# Criterion to measure error of prediction\n",
        "criterion = nn.MSELoss()\n",
        "\n",
        "# Optimizer and learning rate\n",
        "optimizer = torch.optim.Adam(model.parameters(), lr=0.001)\n",
        "\n",
        "# Model training\n",
        "epochs = 1000\n",
        "losses = []\n",
        "\n",
        "for i in range(epochs):\n",
        "    # go forward and get a prediction\n",
        "    y_pred = model.forward(X_train)      # get predicted results\n",
        "\n",
        "    # Measure the loss/error, gonna be high at first\n",
        "    loss = criterion(y_pred, y_train)    #predicted values vs the y_train\n",
        "\n",
        "    # keep track of our losses\n",
        "    losses.append(loss.detach().numpy())\n",
        "\n",
        "    # print every 10 epochs\n",
        "    if i % 10 == 0:\n",
        "        print(f'Epochs: {i} and loss: {loss}')\n",
        "\n",
        "    # Do some backpropagation: take the error rate of forward propagation and\n",
        "    # feed it back through the network to fine-tune the weights\n",
        "    optimizer.zero_grad()\n",
        "    loss.backward()\n",
        "    optimizer.step()\n",
        "\n",
        "# Graph it out\n",
        "plt.plot(range(epochs), losses)\n",
        "plt.ylabel('Loss / Error')\n",
        "plt.xlabel('Epochs')\n",
        "plt.show()\n"
      ]
    },
    {
      "cell_type": "code",
      "execution_count": 10,
      "metadata": {
        "id": "jkd8P4vLKG5n",
        "colab": {
          "base_uri": "https://localhost:8080/"
        },
        "outputId": "633ccac9-52dc-41a3-c982-f27718244677"
      },
      "outputs": [
        {
          "output_type": "stream",
          "name": "stdout",
          "text": [
            "Loss: 1.677344880590681e-05\n",
            "Predicted positions: [[ 8.1196271e-02 -5.7692896e-03  2.8999921e+02 -6.1651617e-03\n",
            "   3.8014352e-04  1.4844239e-03]]\n"
          ]
        },
        {
          "output_type": "stream",
          "name": "stderr",
          "text": [
            "/usr/local/lib/python3.10/dist-packages/sklearn/base.py:439: UserWarning: X does not have valid feature names, but StandardScaler was fitted with feature names\n",
            "  warnings.warn(\n"
          ]
        }
      ],
      "source": [
        "# Evaluate Model on Test data set\n",
        "with torch.no_grad():\n",
        "    y_eval = model.forward(X_test)\n",
        "    loss = criterion(y_eval, y_test)\n",
        "    print(f'Loss: {loss}')\n",
        "\n",
        "# New motor values for prediction\n",
        "motors_new = [[2215, 1881, 2215, 1879, 2217, 1881]]  # Replace with actual new motor values\n",
        "\n",
        "# Normalize the new motor values\n",
        "motors_new = scaler_motors.transform(motors_new)\n",
        "motors_new = torch.tensor(motors_new, dtype=torch.float32)\n",
        "\n",
        "# Make predictions\n",
        "model.eval()\n",
        "with torch.no_grad():\n",
        "    positions_pred = model(motors_new)\n",
        "    positions_pred = scaler_positions.inverse_transform(positions_pred.numpy())\n",
        "\n",
        "print('Predicted positions:', positions_pred)"
      ]
    }
  ],
  "metadata": {
    "accelerator": "GPU",
    "colab": {
      "gpuType": "T4",
      "provenance": [],
      "authorship_tag": "ABX9TyPGeKPFQA4kr6U1Em3DWPzZ",
      "include_colab_link": true
    },
    "kernelspec": {
      "display_name": "Python 3",
      "name": "python3"
    },
    "language_info": {
      "name": "python"
    }
  },
  "nbformat": 4,
  "nbformat_minor": 0
}